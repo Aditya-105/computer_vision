{
  "nbformat": 4,
  "nbformat_minor": 0,
  "metadata": {
    "colab": {
      "name": "(versi2) Modul 2 ML - CNN.ipynb",
      "provenance": [],
      "collapsed_sections": [],
      "include_colab_link": true
    },
    "kernelspec": {
      "name": "python3",
      "display_name": "Python 3"
    }
  },
  "cells": [
    {
      "cell_type": "markdown",
      "metadata": {
        "id": "view-in-github",
        "colab_type": "text"
      },
      "source": [
        "<a href=\"https://colab.research.google.com/github/agusekominarno/computer_vision/blob/main/neural_network/CNN.ipynb\" target=\"_parent\"><img src=\"https://colab.research.google.com/assets/colab-badge.svg\" alt=\"Open In Colab\"/></a>"
      ]
    },
    {
      "cell_type": "markdown",
      "metadata": {
        "id": "xop3SsUgE6wB"
      },
      "source": [
        "<img src = \"https://imgur.com/HE0kDhA.jpg\"  align = \"center\">"
      ]
    },
    {
      "cell_type": "markdown",
      "metadata": {
        "id": "wQBa4hXoxDUd"
      },
      "source": [
        "# **Convolutional Neural Network**"
      ]
    },
    {
      "cell_type": "markdown",
      "metadata": {
        "id": "7-UCcY4k4tVt"
      },
      "source": [
        "Pada modul 1, kita sudah mencoba membuat model Neural network untuk mengklasifikasikan image. Akan tetapi, hasil klasifikasi yang didapatkan masih memiliki nilai akurasi yang rendah. Mengapa hal ini bisa terjadi? Jawabannya ada pada proses feature extraction.\n",
        "\n",
        "\n"
      ]
    },
    {
      "cell_type": "markdown",
      "metadata": {
        "id": "uyDa0EximtQe"
      },
      "source": [
        "*Feature extration* atau ekstrakasi fitur memiliki peran yang vital dalam pembuatan model machine learning. Dalam proses ini, ciri-ciri utama dari suatu data diekstrak. Hasil ekstraksi inilah yang diberikan ke sistem untuk dipelajari. Suatu model akan tercipta dari proses belajar ini (atau yang biasa dikenal dengan proses *training*). Sehingga, ketika ciri yang diekstrak dari suatu data tidak bisa menggambarkan ciri khas (pembeda) data tersebut dibandingkan dengan data yang lain, maka model yang tercipta juga tidak akan baik (akurasi rendah)."
      ]
    },
    {
      "cell_type": "markdown",
      "metadata": {
        "id": "Knl6oNeLntt7"
      },
      "source": [
        "Dalam modul 1, fitur yang diekstrak dari dataset hanyalah nilai warna (RGB) dari tiap pixel yang ada pada image. Sayangnya, fitur warna ini tidak cukup untuk menjadi ciri khas dari suatu image. Dibutuhkan fitur-fitur lain (seperti edge, atau texture) agar model yang dihasilkan dapat memiliki nilai akurasi yang baik. "
      ]
    },
    {
      "cell_type": "markdown",
      "metadata": {
        "id": "r4Tb-mnioaG9"
      },
      "source": [
        "Permasalahan fundamental dari metode-metode machine learning konvensional adalah ketergantungannya pada pemilihan fitur yang digunakan. Kita harus mendefinisikan fitur-fitur apa yang harus diekstrak secara mandiri, agar hasil klasifikasinya baik. Sayangnya, fitur ini sangat bergantung pada dataset yang digunakan. Sebagai contoh, perhatikan gambar berikut:"
      ]
    },
    {
      "cell_type": "markdown",
      "metadata": {
        "id": "jDGxRygypfUc"
      },
      "source": [
        "![alt text](https://imgur.com/lEtxP2O.png)"
      ]
    },
    {
      "cell_type": "markdown",
      "metadata": {
        "id": "5zklTZIOq6uw"
      },
      "source": [
        "Untuk membedakan beruang kutub dan beruang coklat, kita tidak bisa menggunakan fitur edge atau shape, karena bentuk kedua hewan tersebut sama. Tetapi, kita bisa menggunakan fitur warna untuk membedakan keduanya. Akan tetapi, jika kita ingin membedakan beruang coklat dan kuda, kita tidak bisa menggunakan fitur warna saja, karena kedua hewan tersebut memiliki warna yang sama. Inilah yang dimaksud pada penjelasan di atas, bahwa proses ekstraksi fitur sangat mempengaruhi pembuatan model machine learning. Kemudian, apakah tidak ada metode yang dapat mengekstrak fitur secara otomatis tanpa harus repot-repot mendefinisikan fitur apa yang harus diekstrak?"
      ]
    },
    {
      "cell_type": "markdown",
      "metadata": {
        "id": "QSKRsY8Zr3WC"
      },
      "source": [
        "Jawabannya ada pada metode Convolutional Neural Network (CNN). Metode ini merupakan metode deep learning. Metode ini pada dasarnya merupakan pengembangan dari metode neural network. Arsitektur jaringan yang ada pada metode ini memiliki 2 bagian utama, yakni bagian *Feature Learning (Feature Extraction Layer)* dan bagian *Classification (Fully Connected Layer)*. Untuk lebih jelasnya, perhatikan gambar berikut:"
      ]
    },
    {
      "cell_type": "markdown",
      "metadata": {
        "id": "V-9G3cL5sq2B"
      },
      "source": [
        "![alt text](https://i.imgur.com/SPoLfiE.png)"
      ]
    },
    {
      "cell_type": "markdown",
      "metadata": {
        "id": "pRBnoz1Wt_Ki"
      },
      "source": [
        "Terdapat beberapa layer yang ada dalam arsitektur CNN, diantaranya:\n",
        "\n",
        "\n",
        "*   **Convolutional Layer**. Convolutional layer terdiri dari neuron yang tersusun sedemikian rupa sehingga membentuk sebuah filter dengan panjang dan tinggi (pixels). Sebagai contoh, layer pertama pada feature extraction layer biasanya adalah convolutional layer dengan ukuran 5x5x3. Panjang 5 pixels, tinggi 5 pixels dan tebal/jumlah 3 buah sesuai dengan channel dari image tersebut. Ketiga filter ini akan digeser keseluruh bagian dari gambar. Setiap pergeseran akan dilakukan operasi “dot” antara input dan nilai dari filter tersebut sehingga menghasilkan sebuah output atau biasa disebut sebagai activation map atau feature map\n",
        "\n",
        "*   **Pooling Layer**. Pooling layer biasanya berada setelah convolutional layer. Pada prinsipnya pooling layer terdiri dari sebuah filter dengan ukuran dan stride tertentu yang akan bergeser pada seluruh area feature map. Pooling yang biasa digunakan adalah Max Pooling dan Average Pooling. Sebagai contoh jika kita menggunakan Max Pooling 2x2 dengan stride 2, maka pada setiap pergeseran filter, nilai maximum pada area 2x2 pixel tersebut yang akan dipilih, sedangkan Average Pooling akan memilih nilai rata-ratanya\n",
        "\n",
        "*   **Fully Connected Layer**. Feature map yang dihasilkan dari feature extraction layer masih berbentuk multidimensional array, sehingga kita harus melakukan “flatten” atau reshape feature map menjadi sebuah vector agar bisa kita gunakan sebagai input dari fully-connected layer. FC Layer yang dimaksud disini adalah MLP yang sudah pernah kita pelajari sama-sama pada materi sebelumnya. FC Layer memiliki beberapa hidden layer, activation function, output layer dan loss function\n",
        "\n"
      ]
    },
    {
      "cell_type": "markdown",
      "metadata": {
        "id": "BcdiXf8bhXM9"
      },
      "source": [
        "\n",
        "\n",
        "---\n",
        "\n",
        "\n",
        "\n",
        "---\n",
        "\n"
      ]
    },
    {
      "cell_type": "markdown",
      "metadata": {
        "id": "TRO5LI5jhQlB"
      },
      "source": [
        "# Langkah Praktikum"
      ]
    },
    {
      "cell_type": "markdown",
      "metadata": {
        "id": "V1d6iLLch3Zy"
      },
      "source": [
        "Pada praktikum kali ini, kita masih akan menggunakan dataset yang sama dengan modul 1, yakni \"Cats and Dogs\" dataset. Karena di modul 1 kemarin hasil klasifikasi kita masih memiliki akurasi yang rendah, kali ini kita akan mencoba menggunakan metode Deep Learning (yaitu CNN) untuk meningkatkan nilai akurasinya"
      ]
    },
    {
      "cell_type": "markdown",
      "metadata": {
        "id": "zwcRfOFEiTZF"
      },
      "source": [
        "<h3>Load Dataset</h3>"
      ]
    },
    {
      "cell_type": "markdown",
      "metadata": {
        "id": "-J-4_1ZI2Qp1"
      },
      "source": [
        "Pertama, kita download terlebih dahulu datasetnya"
      ]
    },
    {
      "cell_type": "code",
      "metadata": {
        "id": "ts9pNQc5hVt6",
        "colab": {
          "base_uri": "https://localhost:8080/",
          "height": 211
        },
        "outputId": "2471311c-5ec5-4b7f-93ec-23067e9f8085"
      },
      "source": [
        "# Download dataset\n",
        "!wget --no-check-certificate \\\n",
        "    https://storage.googleapis.com/mledu-datasets/cats_and_dogs_filtered.zip \\\n",
        "    -O /tmp/cats_and_dogs_filtered.zip"
      ],
      "execution_count": null,
      "outputs": [
        {
          "output_type": "stream",
          "text": [
            "--2020-10-12 04:32:45--  https://storage.googleapis.com/mledu-datasets/cats_and_dogs_filtered.zip\n",
            "Resolving storage.googleapis.com (storage.googleapis.com)... 173.194.193.128, 173.194.74.128, 172.217.212.128, ...\n",
            "Connecting to storage.googleapis.com (storage.googleapis.com)|173.194.193.128|:443... connected.\n",
            "HTTP request sent, awaiting response... 200 OK\n",
            "Length: 68606236 (65M) [application/zip]\n",
            "Saving to: ‘/tmp/cats_and_dogs_filtered.zip’\n",
            "\n",
            "/tmp/cats_and_dogs_ 100%[===================>]  65.43M  96.1MB/s    in 0.7s    \n",
            "\n",
            "2020-10-12 04:32:46 (96.1 MB/s) - ‘/tmp/cats_and_dogs_filtered.zip’ saved [68606236/68606236]\n",
            "\n"
          ],
          "name": "stdout"
        }
      ]
    },
    {
      "cell_type": "markdown",
      "metadata": {
        "id": "gHmaZTEr2WDC"
      },
      "source": [
        "Setelah itu, ekstrak datasetnya, dan simpan ke dalam local drive kita"
      ]
    },
    {
      "cell_type": "code",
      "metadata": {
        "id": "mWvoZel_iXoa"
      },
      "source": [
        "# Ekstrak dataset\n",
        "\n",
        "import os\n",
        "import zipfile\n",
        "\n",
        "local_zip = '/tmp/cats_and_dogs_filtered.zip'\n",
        "zip_ref = zipfile.ZipFile(local_zip, 'r')\n",
        "zip_ref.extractall('/tmp')\n",
        "zip_ref.close()"
      ],
      "execution_count": null,
      "outputs": []
    },
    {
      "cell_type": "markdown",
      "metadata": {
        "id": "sK0m7k5m3KSP"
      },
      "source": [
        "Pisahkan antara data train dan data validation"
      ]
    },
    {
      "cell_type": "code",
      "metadata": {
        "id": "CmwuwDTcieDp"
      },
      "source": [
        "# Definisikan path untuk data train dan data validation\n",
        "\n",
        "base_dir = '/tmp/cats_and_dogs_filtered'\n",
        "\n",
        "train_dir = os.path.join(base_dir, 'train')\n",
        "validation_dir = os.path.join(base_dir, 'validation')"
      ],
      "execution_count": null,
      "outputs": []
    },
    {
      "cell_type": "markdown",
      "metadata": {
        "id": "PlssmLwA2oay"
      },
      "source": [
        "Sekarang, kita generate vektor dari data train dengan memanfaatkan library 'cv2'. Image juga kita resize menjadi 150 x 150 agar seragam. Terakhir kita set label untuk tiap image berdasarkan class nya (cat atau dog)"
      ]
    },
    {
      "cell_type": "code",
      "metadata": {
        "id": "t88h849OikSd"
      },
      "source": [
        "import cv2\n",
        "import numpy as np\n",
        "\n",
        "# Gather data train\n",
        "train_data = []\n",
        "train_label = []\n",
        "for r, d, f in os.walk(train_dir):\n",
        "    for file in f:\n",
        "        if \".jpg\" in file:\n",
        "            imagePath = os.path.join(r, file)\n",
        "            image = cv2.imread(imagePath)\n",
        "            image = cv2.resize(image, (150,150))\n",
        "            train_data.append(image)\n",
        "            label = imagePath.split(os.path.sep)[-2]\n",
        "            train_label.append(label)\n",
        "\n",
        "train_data = np.array(train_data)\n",
        "train_label = np.array(train_label)"
      ],
      "execution_count": null,
      "outputs": []
    },
    {
      "cell_type": "markdown",
      "metadata": {
        "id": "3PP6ADqT3GJ-"
      },
      "source": [
        "Langkah yang sama juga kita lakukan untuk data validation"
      ]
    },
    {
      "cell_type": "code",
      "metadata": {
        "id": "snAmWO2Lir6i"
      },
      "source": [
        "# Gather data validation\n",
        "val_data = []\n",
        "val_label = []\n",
        "for r, d, f in os.walk(validation_dir):\n",
        "    for file in f:\n",
        "        if \".jpg\" in file:\n",
        "            imagePath = os.path.join(r, file)\n",
        "            image = cv2.imread(imagePath)\n",
        "            image = cv2.resize(image, (150,150))\n",
        "            val_data.append(image)\n",
        "            label = imagePath.split(os.path.sep)[-2]\n",
        "            val_label.append(label)\n",
        "\n",
        "val_data = np.array(val_data)\n",
        "val_label = np.array(val_label)"
      ],
      "execution_count": null,
      "outputs": []
    },
    {
      "cell_type": "markdown",
      "metadata": {
        "id": "QzYY8O2diw4G"
      },
      "source": [
        "<h3>Data Preprocessing</h3>"
      ]
    },
    {
      "cell_type": "markdown",
      "metadata": {
        "id": "E1iON8eC4Mj2"
      },
      "source": [
        "Sekarang coba kita cek size dan dimensi dara dataset kita"
      ]
    },
    {
      "cell_type": "code",
      "metadata": {
        "id": "BA54UWLDivCg",
        "colab": {
          "base_uri": "https://localhost:8080/",
          "height": 87
        },
        "outputId": "24530c36-553e-43e6-a6ea-aa78c99e02e8"
      },
      "source": [
        "# Tampilkan shape dari data train dan data validation\n",
        "print(\"Train Data = \", train_data.shape)\n",
        "print(\"Train Label = \", train_label.shape)\n",
        "print(\"Validation Data = \", val_data.shape)\n",
        "print(\"Validation Label = \", val_label.shape)"
      ],
      "execution_count": null,
      "outputs": [
        {
          "output_type": "stream",
          "text": [
            "Train Data =  (2000, 150, 150, 3)\n",
            "Train Label =  (2000,)\n",
            "Validation Data =  (1000, 150, 150, 3)\n",
            "Validation Label =  (1000,)\n"
          ],
          "name": "stdout"
        }
      ]
    },
    {
      "cell_type": "markdown",
      "metadata": {
        "id": "nisAadSW4TOZ"
      },
      "source": [
        "Terlihat bahwa kita memiliki 2000 data untuk training, dan 1000 data untuk validation. Dimensi tiap image 150 x 150. Dan image kita terdiri dari 3 channel (B, G, R). Sekarang, kita akan normalisasi dataset kita. Pertama, kita normalisasi nilai dari tiap pixel yang ada di dataset. Dari awalnya memiliki range 0 - 255, kita normalisasi menjadi range 0 - 1. Langkah ini dilakukan untuk memudahkan proses komputasi di tahapan berikutnya"
      ]
    },
    {
      "cell_type": "code",
      "metadata": {
        "id": "UG2eM5mpi2z_",
        "colab": {
          "base_uri": "https://localhost:8080/",
          "height": 52
        },
        "outputId": "d63557f1-e3ff-4e60-ea6b-c344c0f7cb88"
      },
      "source": [
        "# Normalisasi dataset\n",
        "print(\"Data sebelum di-normalisasi \", train_data[0][0][0])\n",
        "\n",
        "x_train = train_data.astype('float32') / 255.0\n",
        "x_val = val_data.astype('float32') / 255.0\n",
        "print(\"Data setelah di-normalisasi \", x_train[0][0][0])"
      ],
      "execution_count": null,
      "outputs": [
        {
          "output_type": "stream",
          "text": [
            "Data sebelum di-normalisasi  [200 205 204]\n",
            "Data setelah di-normalisasi  [0.78431374 0.8039216  0.8       ]\n"
          ],
          "name": "stdout"
        }
      ]
    },
    {
      "cell_type": "markdown",
      "metadata": {
        "id": "HVZPKwLOhV3M"
      },
      "source": [
        "Selain data, label juga perlu dinormalisasi. Karena class yang kita gunakan hanya ada 2 (cat & dog), maka label akan kita set menjadi binary, yakni 0 dan 1"
      ]
    },
    {
      "cell_type": "code",
      "metadata": {
        "id": "211VpZI7i5VR",
        "colab": {
          "base_uri": "https://localhost:8080/",
          "height": 52
        },
        "outputId": "68a93d3a-57b5-4629-a54c-51e477ed5f10"
      },
      "source": [
        "# Transformasi label encoder\n",
        "from sklearn.preprocessing import LabelEncoder\n",
        "\n",
        "print(\"Label sebelum di-encoder \", train_label[995:1005])\n",
        "\n",
        "lb = LabelEncoder()\n",
        "y_train = lb.fit_transform(train_label)\n",
        "y_val = lb.fit_transform(val_label)\n",
        "\n",
        "print(\"Label setelah di-encoder \", y_train[995:1005])"
      ],
      "execution_count": null,
      "outputs": [
        {
          "output_type": "stream",
          "text": [
            "Label sebelum di-encoder  ['cats' 'cats' 'cats' 'cats' 'cats' 'dogs' 'dogs' 'dogs' 'dogs' 'dogs']\n",
            "Label setelah di-encoder  [0 0 0 0 0 1 1 1 1 1]\n"
          ],
          "name": "stdout"
        }
      ]
    },
    {
      "cell_type": "markdown",
      "metadata": {
        "id": "EcnbnSEKi_qo"
      },
      "source": [
        "<h3>Definisikan Model</h3>"
      ]
    },
    {
      "cell_type": "markdown",
      "metadata": {
        "id": "jFx-FMxRjz7Z"
      },
      "source": [
        "Berikutnya, kita akan mendefinisikan model (arsitektur) dari jaringan CNN kita. Pertama kita import dulu library yang diperlukan. Disini kita akan menggunakan 'keras'"
      ]
    },
    {
      "cell_type": "code",
      "metadata": {
        "id": "9BKOWZpRi8pO"
      },
      "source": [
        "from tensorflow.keras.models import Sequential\n",
        "from tensorflow.keras.layers import InputLayer, Dense, Conv2D, MaxPool2D, Flatten"
      ],
      "execution_count": null,
      "outputs": []
    },
    {
      "cell_type": "markdown",
      "metadata": {
        "id": "Lt8xsBTwkEHh"
      },
      "source": [
        "Kita akan membuat jaringan dengan arsitektur sebagai berikut:\n",
        "INPUT -> CONVOLUTION -> POOLING -> CONVOLUTION -> POOLING -> CONVOLUTION -> POOLING - FULLY CONNECTED LAYER"
      ]
    },
    {
      "cell_type": "code",
      "metadata": {
        "id": "Rfv5XurhkB7r"
      },
      "source": [
        "# Feature Extraction Layer\n",
        "model = Sequential()\n",
        "\n",
        "model.add(InputLayer(input_shape=[150,150,3]))\n",
        "model.add(Conv2D(filters=16, kernel_size=3, strides=1, padding='same', activation='relu'))\n",
        "model.add(MaxPool2D(pool_size=2, padding='same'))\n",
        "model.add(Conv2D(filters=32, kernel_size=3, strides=1, padding='same', activation='relu'))\n",
        "model.add(MaxPool2D(pool_size=2, padding='same'))\n",
        "model.add(Conv2D(filters=64, kernel_size=3, strides=1, padding='same', activation='relu'))\n",
        "model.add(MaxPool2D(pool_size=2, padding='same'))\n",
        "model.add(Flatten())"
      ],
      "execution_count": null,
      "outputs": []
    },
    {
      "cell_type": "code",
      "metadata": {
        "id": "fgQYI3EakMR2"
      },
      "source": [
        "# Fully Connected Layer\n",
        "model.add(Dense(128, activation='relu'))\n",
        "model.add(Dense(1, activation='sigmoid'))"
      ],
      "execution_count": null,
      "outputs": []
    },
    {
      "cell_type": "code",
      "metadata": {
        "id": "joR66WowkdD5",
        "colab": {
          "base_uri": "https://localhost:8080/",
          "height": 492
        },
        "outputId": "34118fab-6223-456e-d40b-297bcae4af6e"
      },
      "source": [
        "# Print model summary\n",
        "print(model.summary())"
      ],
      "execution_count": null,
      "outputs": [
        {
          "output_type": "stream",
          "text": [
            "Model: \"sequential\"\n",
            "_________________________________________________________________\n",
            "Layer (type)                 Output Shape              Param #   \n",
            "=================================================================\n",
            "conv2d (Conv2D)              (None, 150, 150, 16)      448       \n",
            "_________________________________________________________________\n",
            "max_pooling2d (MaxPooling2D) (None, 75, 75, 16)        0         \n",
            "_________________________________________________________________\n",
            "conv2d_1 (Conv2D)            (None, 75, 75, 32)        4640      \n",
            "_________________________________________________________________\n",
            "max_pooling2d_1 (MaxPooling2 (None, 38, 38, 32)        0         \n",
            "_________________________________________________________________\n",
            "conv2d_2 (Conv2D)            (None, 38, 38, 64)        18496     \n",
            "_________________________________________________________________\n",
            "max_pooling2d_2 (MaxPooling2 (None, 19, 19, 64)        0         \n",
            "_________________________________________________________________\n",
            "flatten (Flatten)            (None, 23104)             0         \n",
            "_________________________________________________________________\n",
            "dense (Dense)                (None, 128)               2957440   \n",
            "_________________________________________________________________\n",
            "dense_1 (Dense)              (None, 1)                 129       \n",
            "=================================================================\n",
            "Total params: 2,981,153\n",
            "Trainable params: 2,981,153\n",
            "Non-trainable params: 0\n",
            "_________________________________________________________________\n",
            "None\n"
          ],
          "name": "stdout"
        }
      ]
    },
    {
      "cell_type": "code",
      "metadata": {
        "id": "xZKDqfVwkj1-"
      },
      "source": [
        "# Compile model\n",
        "from tensorflow.keras.optimizers import Adam\n",
        "\n",
        "model.compile(optimizer=Adam(lr=0.001), \n",
        "              loss='binary_crossentropy', \n",
        "              metrics=['acc'])"
      ],
      "execution_count": null,
      "outputs": []
    },
    {
      "cell_type": "markdown",
      "metadata": {
        "id": "9tOwC7HclGDY"
      },
      "source": [
        "<h3>Training Model</h3>"
      ]
    },
    {
      "cell_type": "markdown",
      "metadata": {
        "id": "PH30VUQHkgnu"
      },
      "source": [
        "Berikutnya, kita akan melatih model kita dengan epoch=15"
      ]
    },
    {
      "cell_type": "code",
      "metadata": {
        "id": "1KHHse_xk7TQ",
        "colab": {
          "base_uri": "https://localhost:8080/",
          "height": 545
        },
        "outputId": "0671e053-59fd-42be-d081-a1e32fec04be"
      },
      "source": [
        "H = model.fit(x_train, y_train, batch_size=20, epochs=15, validation_data=(x_val, y_val))"
      ],
      "execution_count": null,
      "outputs": [
        {
          "output_type": "stream",
          "text": [
            "Epoch 1/15\n",
            "100/100 [==============================] - 47s 473ms/step - loss: 0.7216 - acc: 0.5335 - val_loss: 0.7017 - val_acc: 0.5000\n",
            "Epoch 2/15\n",
            "100/100 [==============================] - 47s 470ms/step - loss: 0.6625 - acc: 0.6105 - val_loss: 0.6708 - val_acc: 0.6120\n",
            "Epoch 3/15\n",
            "100/100 [==============================] - 47s 469ms/step - loss: 0.6047 - acc: 0.6805 - val_loss: 0.6178 - val_acc: 0.6820\n",
            "Epoch 4/15\n",
            "100/100 [==============================] - 47s 469ms/step - loss: 0.5323 - acc: 0.7370 - val_loss: 0.6043 - val_acc: 0.6910\n",
            "Epoch 5/15\n",
            "100/100 [==============================] - 47s 473ms/step - loss: 0.4671 - acc: 0.7755 - val_loss: 0.6154 - val_acc: 0.7060\n",
            "Epoch 6/15\n",
            "100/100 [==============================] - 47s 472ms/step - loss: 0.3708 - acc: 0.8410 - val_loss: 0.6804 - val_acc: 0.6920\n",
            "Epoch 7/15\n",
            "100/100 [==============================] - 48s 477ms/step - loss: 0.2714 - acc: 0.8880 - val_loss: 0.7655 - val_acc: 0.7050\n",
            "Epoch 8/15\n",
            "100/100 [==============================] - 47s 470ms/step - loss: 0.2161 - acc: 0.9055 - val_loss: 0.8369 - val_acc: 0.6880\n",
            "Epoch 9/15\n",
            "100/100 [==============================] - 47s 473ms/step - loss: 0.1413 - acc: 0.9470 - val_loss: 0.9627 - val_acc: 0.7010\n",
            "Epoch 10/15\n",
            "100/100 [==============================] - 48s 481ms/step - loss: 0.0794 - acc: 0.9735 - val_loss: 1.1103 - val_acc: 0.7070\n",
            "Epoch 11/15\n",
            "100/100 [==============================] - 47s 472ms/step - loss: 0.0987 - acc: 0.9625 - val_loss: 1.2405 - val_acc: 0.6810\n",
            "Epoch 12/15\n",
            "100/100 [==============================] - 47s 473ms/step - loss: 0.0619 - acc: 0.9790 - val_loss: 1.3200 - val_acc: 0.7090\n",
            "Epoch 13/15\n",
            "100/100 [==============================] - 48s 479ms/step - loss: 0.0284 - acc: 0.9940 - val_loss: 1.5533 - val_acc: 0.6980\n",
            "Epoch 14/15\n",
            "100/100 [==============================] - 48s 478ms/step - loss: 0.0250 - acc: 0.9925 - val_loss: 1.5349 - val_acc: 0.7060\n",
            "Epoch 15/15\n",
            "100/100 [==============================] - 48s 476ms/step - loss: 0.0114 - acc: 0.9975 - val_loss: 1.7113 - val_acc: 0.6990\n"
          ],
          "name": "stdout"
        }
      ]
    },
    {
      "cell_type": "markdown",
      "metadata": {
        "id": "Z6O6NDNUlv35"
      },
      "source": [
        "<h3>Evaluasi Model</h3>"
      ]
    },
    {
      "cell_type": "markdown",
      "metadata": {
        "id": "PHYOtNbFkpY-"
      },
      "source": [
        "Kita akan menampilkan grafik loss dan akurasi"
      ]
    },
    {
      "cell_type": "code",
      "metadata": {
        "id": "mQc38Bl6lNSt",
        "colab": {
          "base_uri": "https://localhost:8080/",
          "height": 299
        },
        "outputId": "aaefdd27-5b6d-45cb-c90d-a6170be67f36"
      },
      "source": [
        "%matplotlib inline\n",
        "\n",
        "import matplotlib.pyplot as plt\n",
        "\n",
        "plt.style.use(\"ggplot\")\n",
        "plt.figure()\n",
        "plt.plot(np.arange(0, 15), H.history[\"loss\"], label=\"train_loss\")\n",
        "plt.plot(np.arange(0, 15), H.history[\"val_loss\"], label=\"val_loss\")\n",
        "plt.title(\"Loss Plot\")\n",
        "plt.xlabel(\"Epoch #\")\n",
        "plt.ylabel(\"Loss\")\n",
        "plt.legend()\n",
        "plt.show()"
      ],
      "execution_count": null,
      "outputs": [
        {
          "output_type": "display_data",
          "data": {
            "image/png": "[encoded data removed]",
            "text/plain": [
              "<Figure size 432x288 with 1 Axes>"
            ]
          },
          "metadata": {
            "tags": []
          }
        }
      ]
    },
    {
      "cell_type": "markdown",
      "metadata": {
        "id": "MhNy6Ct3kwhr"
      },
      "source": [
        "Disini terlihat bahwa nilai loss dari data validation cenderung naik setelah epoch ke-4. Ini berarti model yang kita buat masih overfit. Penjelasan tentang overfit akan dijelaskan pada modul berikutnya"
      ]
    },
    {
      "cell_type": "code",
      "metadata": {
        "id": "hi-XEOFLl7eN",
        "colab": {
          "base_uri": "https://localhost:8080/",
          "height": 299
        },
        "outputId": "564cfddf-023a-441c-9e16-52abf5ee289c"
      },
      "source": [
        "plt.style.use(\"ggplot\")\n",
        "plt.figure()\n",
        "plt.plot(np.arange(0, 15), H.history[\"acc\"], label=\"train_acc\")\n",
        "plt.plot(np.arange(0, 15), H.history[\"val_acc\"], label=\"val_acc\")\n",
        "plt.title(\"Accuracy Plot\")\n",
        "plt.xlabel(\"Epoch #\")\n",
        "plt.ylabel(\"Acc\")\n",
        "plt.legend()\n",
        "plt.show()"
      ],
      "execution_count": null,
      "outputs": [
        {
          "output_type": "display_data",
          "data": {
            "image/png": "[encoded data removed]",
            "text/plain": [
              "<Figure size 432x288 with 1 Axes>"
            ]
          },
          "metadata": {
            "tags": []
          }
        }
      ]
    },
    {
      "cell_type": "code",
      "metadata": {
        "id": "DhHd-_gll9pv",
        "colab": {
          "base_uri": "https://localhost:8080/",
          "height": 175
        },
        "outputId": "f5cf42d0-6015-4aa2-859f-baba138564f4"
      },
      "source": [
        "from sklearn.metrics import classification_report\n",
        "\n",
        "pred = model.predict(x_val)\n",
        "labels = (pred > 0.5).astype(np.int)\n",
        "\n",
        "print(classification_report(y_val, labels))"
      ],
      "execution_count": null,
      "outputs": [
        {
          "output_type": "stream",
          "text": [
            "              precision    recall  f1-score   support\n",
            "\n",
            "           0       0.70      0.69      0.70       500\n",
            "           1       0.70      0.71      0.70       500\n",
            "\n",
            "    accuracy                           0.70      1000\n",
            "   macro avg       0.70      0.70      0.70      1000\n",
            "weighted avg       0.70      0.70      0.70      1000\n",
            "\n"
          ],
          "name": "stdout"
        }
      ]
    },
    {
      "cell_type": "code",
      "metadata": {
        "id": "I6Wk-Dual_iI"
      },
      "source": [
        ""
      ],
      "execution_count": null,
      "outputs": []
    }
  ]
}